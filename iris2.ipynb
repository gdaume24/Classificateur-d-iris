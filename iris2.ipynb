{
 "cells": [
  {
   "cell_type": "code",
   "execution_count": 44,
   "metadata": {},
   "outputs": [
    {
     "name": "stdout",
     "output_type": "stream",
     "text": [
      "setosa\n",
      "versicolor\n"
     ]
    }
   ],
   "source": [
    "import matplotlib.pyplot as plt\n",
    "from sklearn import datasets\n",
    "from sklearn.preprocessing import StandardScaler, normalize\n",
    "from sklearn.preprocessing import RobustScaler, MinMaxScaler\n",
    "from sklearn.metrics import accuracy_score, confusion_matrix\n",
    "from sklearn.model_selection import train_test_split, learning_curve\n",
    "from sklearn.model_selection import KFold, StratifiedKFold, validation_curve\n",
    "from sklearn.model_selection import GroupKFold, cross_val_score\n",
    "from sklearn.model_selection import GridSearchCV\n",
    "from sklearn.svm import LinearSVC\n",
    "from sklearn.neighbors import KNeighborsClassifier\n",
    "from sklearn.feature_selection import VarianceThreshold, SelectKBest\n",
    "from sklearn.feature_selection import chi2\n",
    "from sklearn.feature_selection import SelectFromModel, RFE, RFECV\n",
    "from sklearn.linear_model import SGDClassifier\n",
    "import pandas as pd\n",
    "import numpy as np\n",
    "\n",
    "#--------------chargement du jeu de données------------\n",
    "\n",
    "iris = datasets.load_iris()\n",
    "data, labels = iris.data, iris.target\n",
    "\n",
    "#---------fonction KNN que j'ai faite---------------\n",
    "\n",
    "#ca c'est quelque chose que j'ai pris sur internet,\n",
    "#  pour sortir la valeur la plus fréquente dans une liste\n",
    "def most_frequent(List):\n",
    "    counter = 0\n",
    "    num = List[0]\n",
    "    for i in List:\n",
    "        curr_frequency = List.count(i)\n",
    "        if(curr_frequency> counter):\n",
    "            counter = curr_frequency\n",
    "            num = i\n",
    "    return num\n",
    "\n",
    "\n",
    "\n",
    "def my_knn(data_train, labels_train, k, valeur_test):\n",
    "    liste = []\n",
    "    liste_sortie = []\n",
    "    k = 7\n",
    "    v = valeur_test\n",
    "    #pour chaque échantillon dans la data :\n",
    "    #(ici pour la fonction chaque échantillon doit avoir 4 caractéristiques)\n",
    "    #on calcule la distance de schewman (?) entre les caractéristiques du test \n",
    "    # et celles de tous elements de la base de donnée, on regroupe les longueurs dans une liste\n",
    "    for i in range(len(data_train[:,0])):\n",
    "        a = data_train[i]\n",
    "        distance_va = ((a[0]-v[0])**4+(a[1]-v[1])**4+(a[2]-v[2])**4+(a[3]-v[3])**4)**(1/4)\n",
    "        liste.append(distance_va)\n",
    "    liste_k_index = np.sort(liste)\n",
    "    #après avoir trié la liste pour obtenir les plus petits en premier,\n",
    "    #on fait une boucle qui permet de choisir les k plus proches,\n",
    "    #on trouve les index correspondants aux plus petites valeurs et on recherche les valeurs correspondantes dans\n",
    "    #le label, ensuite on retourne la valeur la plus présente (ex 0, qui correspond à une espèce de fleur)\n",
    "    for i in range(k):\n",
    "        index = liste.index(liste_k_index[i])\n",
    "        liste_sortie.append(labels_train[index])\n",
    "\n",
    "    z = most_frequent(liste_sortie)  \n",
    "    if (z == 0):\n",
    "        print('setosa')\n",
    "    elif (z == 1):\n",
    "        print('versicolor')\n",
    "    elif (z == 2):\n",
    "        print('virginica')\n",
    "\n",
    "\n",
    "my_knn(data, labels, 7, [4.7,3.2,1.3,.2])\n",
    "\n",
    "\n",
    "my_knn(data, labels, 9, [6.2,2.2,4.5,1.5] )"
   ]
  },
  {
   "cell_type": "markdown",
   "metadata": {},
   "source": [
    "On regarde le meilleur modèle de classification sur la carte\n",
    "https://scikit-learn.org/stable/tutorial/machine_learning_map/index.html\n",
    "Ici on veut faire de la classification avec les iris donc on va choisir KNN."
   ]
  },
  {
   "cell_type": "markdown",
   "metadata": {},
   "source": [
    "Ici, on définit notre train set et test set "
   ]
  },
  {
   "cell_type": "code",
   "execution_count": 45,
   "metadata": {},
   "outputs": [
    {
     "name": "stdout",
     "output_type": "stream",
     "text": [
      "[[5.5 2.4 3.7 1. ]\n",
      " [6.4 2.8 5.6 2.2]\n",
      " [6.7 3.3 5.7 2.5]\n",
      " [5.7 3.8 1.7 0.3]\n",
      " [5.6 2.7 4.2 1.3]\n",
      " [5.1 3.8 1.6 0.2]\n",
      " [4.9 3.1 1.5 0.2]\n",
      " [5.8 2.6 4.  1.2]\n",
      " [5.2 2.7 3.9 1.4]\n",
      " [4.4 2.9 1.4 0.2]\n",
      " [6.2 2.8 4.8 1.8]\n",
      " [5.1 3.5 1.4 0.3]\n",
      " [4.8 3.  1.4 0.1]\n",
      " [5.7 2.9 4.2 1.3]\n",
      " [6.5 3.  5.2 2. ]\n",
      " [5.5 2.3 4.  1.3]\n",
      " [6.  2.9 4.5 1.5]\n",
      " [4.9 2.4 3.3 1. ]\n",
      " [6.7 3.3 5.7 2.1]\n",
      " [6.1 3.  4.6 1.4]\n",
      " [6.  3.  4.8 1.8]\n",
      " [4.7 3.2 1.6 0.2]\n",
      " [6.6 2.9 4.6 1.3]\n",
      " [6.9 3.1 4.9 1.5]\n",
      " [5.  3.6 1.4 0.2]\n",
      " [6.4 2.7 5.3 1.9]\n",
      " [7.  3.2 4.7 1.4]\n",
      " [5.  3.5 1.6 0.6]\n",
      " [5.9 3.2 4.8 1.8]\n",
      " [5.1 3.5 1.4 0.2]\n",
      " [5.5 2.6 4.4 1.2]\n",
      " [6.1 3.  4.9 1.8]\n",
      " [7.2 3.2 6.  1.8]\n",
      " [6.3 3.4 5.6 2.4]\n",
      " [4.9 2.5 4.5 1.7]\n",
      " [6.2 2.2 4.5 1.5]\n",
      " [6.5 3.2 5.1 2. ]\n",
      " [4.8 3.4 1.6 0.2]\n",
      " [5.  2.3 3.3 1. ]\n",
      " [6.8 3.  5.5 2.1]\n",
      " [5.4 3.4 1.5 0.4]\n",
      " [5.1 3.3 1.7 0.5]\n",
      " [4.8 3.  1.4 0.3]\n",
      " [5.7 4.4 1.5 0.4]\n",
      " [5.7 2.8 4.1 1.3]\n",
      " [5.8 4.  1.2 0.2]\n",
      " [4.8 3.1 1.6 0.2]\n",
      " [6.4 3.2 5.3 2.3]\n",
      " [6.  2.2 5.  1.5]\n",
      " [5.5 2.4 3.8 1.1]\n",
      " [5.7 3.  4.2 1.2]\n",
      " [6.7 3.  5.2 2.3]\n",
      " [4.6 3.2 1.4 0.2]\n",
      " [5.5 2.5 4.  1.3]\n",
      " [4.4 3.2 1.3 0.2]\n",
      " [5.4 3.4 1.7 0.2]\n",
      " [5.8 2.7 4.1 1. ]\n",
      " [6.9 3.1 5.1 2.3]\n",
      " [5.5 4.2 1.4 0.2]\n",
      " [6.9 3.1 5.4 2.1]\n",
      " [6.  3.4 4.5 1.6]\n",
      " [6.5 3.  5.5 1.8]\n",
      " [5.9 3.  5.1 1.8]\n",
      " [6.4 2.8 5.6 2.1]\n",
      " [5.7 2.8 4.5 1.3]\n",
      " [7.1 3.  5.9 2.1]\n",
      " [6.3 2.3 4.4 1.3]\n",
      " [4.5 2.3 1.3 0.3]\n",
      " [5.8 2.7 5.1 1.9]\n",
      " [7.2 3.  5.8 1.6]\n",
      " [5.  3.4 1.5 0.2]\n",
      " [6.3 3.3 6.  2.5]\n",
      " [5.5 3.5 1.3 0.2]\n",
      " [6.4 3.2 4.5 1.5]\n",
      " [5.8 2.7 5.1 1.9]\n",
      " [7.7 2.6 6.9 2.3]\n",
      " [6.7 3.1 4.7 1.5]\n",
      " [4.3 3.  1.1 0.1]\n",
      " [5.6 3.  4.5 1.5]\n",
      " [4.6 3.4 1.4 0.3]\n",
      " [5.  3.2 1.2 0.2]\n",
      " [5.1 3.7 1.5 0.4]\n",
      " [6.7 3.  5.  1.7]\n",
      " [5.4 3.9 1.7 0.4]\n",
      " [4.7 3.2 1.3 0.2]\n",
      " [6.5 3.  5.8 2.2]\n",
      " [5.6 2.9 3.6 1.3]\n",
      " [6.3 2.5 5.  1.9]\n",
      " [5.2 3.4 1.4 0.2]\n",
      " [4.9 3.  1.4 0.2]\n",
      " [6.8 3.2 5.9 2.3]\n",
      " [7.7 3.  6.1 2.3]\n",
      " [5.2 3.5 1.5 0.2]\n",
      " [6.3 2.8 5.1 1.5]\n",
      " [5.  3.3 1.4 0.2]\n",
      " [6.1 2.9 4.7 1.4]\n",
      " [5.3 3.7 1.5 0.2]\n",
      " [5.  3.5 1.3 0.3]\n",
      " [6.3 3.3 4.7 1.6]\n",
      " [5.6 2.5 3.9 1.1]\n",
      " [5.6 3.  4.1 1.3]\n",
      " [5.7 2.5 5.  2. ]\n",
      " [6.8 2.8 4.8 1.4]\n",
      " [5.1 3.8 1.5 0.3]\n",
      " [6.7 3.1 5.6 2.4]\n",
      " [5.4 3.7 1.5 0.2]\n",
      " [6.6 3.  4.4 1.4]\n",
      " [7.2 3.6 6.1 2.5]\n",
      " [4.6 3.1 1.5 0.2]\n",
      " [6.9 3.2 5.7 2.3]\n",
      " [5.1 3.8 1.9 0.4]\n",
      " [7.9 3.8 6.4 2. ]\n",
      " [5.1 3.4 1.5 0.2]\n",
      " [6.2 3.4 5.4 2.3]\n",
      " [6.5 2.8 4.6 1.5]\n",
      " [5.7 2.6 3.5 1. ]\n",
      " [6.4 3.1 5.5 1.8]\n",
      " [5.8 2.8 5.1 2.4]\n",
      " [7.4 2.8 6.1 1.9]\n",
      " [6.  2.7 5.1 1.6]] [[-0.41546027 -1.59814513 -0.01813477 -0.27635167]\n",
      " [ 0.70628245 -0.65226392  1.06995122  1.26607625]\n",
      " [ 1.08019669  0.5300876   1.1272189   1.65168323]\n",
      " [-0.16618411  1.71243911 -1.16348844 -1.17610129]\n",
      " [-0.29082219 -0.88873422  0.26820365  0.10925531]\n",
      " [-0.91401258  1.71243911 -1.22075612 -1.30463695]\n",
      " [-1.16328874  0.05714699 -1.2780238  -1.30463695]\n",
      " [-0.04154603 -1.12520452  0.15366828 -0.01928035]\n",
      " [-0.7893745  -0.88873422  0.0964006   0.23779097]\n",
      " [-1.78647914 -0.41579362 -1.33529149 -1.30463695]\n",
      " [ 0.45700629 -0.65226392  0.61180975  0.75193361]\n",
      " [-0.91401258  1.0030282  -1.33529149 -1.17610129]\n",
      " [-1.28792682 -0.17932331 -1.33529149 -1.43317261]\n",
      " [-0.16618411 -0.41579362  0.26820365  0.10925531]\n",
      " [ 0.83092053 -0.17932331  0.84088049  1.00900493]\n",
      " [-0.41546027 -1.83461543  0.15366828  0.10925531]\n",
      " [ 0.20773013 -0.41579362  0.4400067   0.36632663]\n",
      " [-1.16328874 -1.59814513 -0.2472055  -0.27635167]\n",
      " [ 1.08019669  0.5300876   1.1272189   1.13754059]\n",
      " [ 0.33236821 -0.17932331  0.49727439  0.23779097]\n",
      " [ 0.20773013 -0.17932331  0.61180975  0.75193361]\n",
      " [-1.4125649   0.29361729 -1.22075612 -1.30463695]\n",
      " [ 0.95555861 -0.41579362  0.49727439  0.10925531]\n",
      " [ 1.32947285  0.05714699  0.66907744  0.36632663]\n",
      " [-1.03865066  1.2394985  -1.33529149 -1.30463695]\n",
      " [ 0.70628245 -0.88873422  0.89814817  0.88046927]\n",
      " [ 1.45411093  0.29361729  0.55454207  0.23779097]\n",
      " [-1.03865066  1.0030282  -1.22075612 -0.79049431]\n",
      " [ 0.08309205  0.29361729  0.61180975  0.75193361]\n",
      " [-0.91401258  1.0030282  -1.33529149 -1.30463695]\n",
      " [-0.41546027 -1.12520452  0.38273902 -0.01928035]\n",
      " [ 0.33236821 -0.17932331  0.66907744  0.75193361]\n",
      " [ 1.70338709  0.29361729  1.29902195  0.75193361]\n",
      " [ 0.58164437  0.7665579   1.06995122  1.52314757]\n",
      " [-1.16328874 -1.36167483  0.4400067   0.62339795]\n",
      " [ 0.45700629 -2.07108574  0.4400067   0.36632663]\n",
      " [ 0.83092053  0.29361729  0.7836128   1.00900493]\n",
      " [-1.28792682  0.7665579  -1.22075612 -1.30463695]\n",
      " [-1.03865066 -1.83461543 -0.2472055  -0.27635167]\n",
      " [ 1.20483477 -0.17932331  1.01268354  1.13754059]\n",
      " [-0.54009835  0.7665579  -1.2780238  -1.04756563]\n",
      " [-0.91401258  0.5300876  -1.16348844 -0.91902997]\n",
      " [-1.28792682 -0.17932331 -1.33529149 -1.17610129]\n",
      " [-0.16618411  3.13126093 -1.2780238  -1.04756563]\n",
      " [-0.16618411 -0.65226392  0.21093597  0.10925531]\n",
      " [-0.04154603  2.18537971 -1.44982685 -1.30463695]\n",
      " [-1.28792682  0.05714699 -1.22075612 -1.30463695]\n",
      " [ 0.70628245  0.29361729  0.89814817  1.39461191]\n",
      " [ 0.20773013 -2.07108574  0.72634512  0.36632663]\n",
      " [-0.41546027 -1.59814513  0.03913292 -0.14781601]\n",
      " [-0.16618411 -0.17932331  0.26820365 -0.01928035]\n",
      " [ 1.08019669 -0.17932331  0.84088049  1.39461191]\n",
      " [-1.53720298  0.29361729 -1.33529149 -1.30463695]\n",
      " [-0.41546027 -1.36167483  0.15366828  0.10925531]\n",
      " [-1.78647914  0.29361729 -1.39255917 -1.30463695]\n",
      " [-0.54009835  0.7665579  -1.16348844 -1.30463695]\n",
      " [-0.04154603 -0.88873422  0.21093597 -0.27635167]\n",
      " [ 1.32947285  0.05714699  0.7836128   1.39461191]\n",
      " [-0.41546027  2.65832032 -1.33529149 -1.30463695]\n",
      " [ 1.32947285  0.05714699  0.95541585  1.13754059]\n",
      " [ 0.20773013  0.7665579   0.4400067   0.49486229]\n",
      " [ 0.83092053 -0.17932331  1.01268354  0.75193361]\n",
      " [ 0.08309205 -0.17932331  0.7836128   0.75193361]\n",
      " [ 0.70628245 -0.65226392  1.06995122  1.13754059]\n",
      " [-0.16618411 -0.65226392  0.4400067   0.10925531]\n",
      " [ 1.57874901 -0.17932331  1.24175427  1.13754059]\n",
      " [ 0.58164437 -1.83461543  0.38273902  0.10925531]\n",
      " [-1.66184106 -1.83461543 -1.39255917 -1.17610129]\n",
      " [-0.04154603 -0.88873422  0.7836128   0.88046927]\n",
      " [ 1.70338709 -0.17932331  1.18448659  0.49486229]\n",
      " [-1.03865066  0.7665579  -1.2780238  -1.30463695]\n",
      " [ 0.58164437  0.5300876   1.29902195  1.65168323]\n",
      " [-0.41546027  1.0030282  -1.39255917 -1.30463695]\n",
      " [ 0.70628245  0.29361729  0.4400067   0.36632663]\n",
      " [-0.04154603 -0.88873422  0.7836128   0.88046927]\n",
      " [ 2.32657749 -1.12520452  1.81443111  1.39461191]\n",
      " [ 1.08019669  0.05714699  0.55454207  0.36632663]\n",
      " [-1.91111722 -0.17932331 -1.50709454 -1.43317261]\n",
      " [-0.29082219 -0.17932331  0.4400067   0.36632663]\n",
      " [-1.53720298  0.7665579  -1.33529149 -1.17610129]\n",
      " [-1.03865066  0.29361729 -1.44982685 -1.30463695]\n",
      " [-0.91401258  1.47596881 -1.2780238  -1.04756563]\n",
      " [ 1.08019669 -0.17932331  0.72634512  0.62339795]\n",
      " [-0.54009835  1.94890941 -1.16348844 -1.04756563]\n",
      " [-1.4125649   0.29361729 -1.39255917 -1.30463695]\n",
      " [ 0.83092053 -0.17932331  1.18448659  1.26607625]\n",
      " [-0.29082219 -0.41579362 -0.07540245  0.10925531]\n",
      " [ 0.58164437 -1.36167483  0.72634512  0.88046927]\n",
      " [-0.7893745   0.7665579  -1.33529149 -1.30463695]\n",
      " [-1.16328874 -0.17932331 -1.33529149 -1.30463695]\n",
      " [ 1.20483477  0.29361729  1.24175427  1.39461191]\n",
      " [ 2.32657749 -0.17932331  1.35628964  1.39461191]\n",
      " [-0.7893745   1.0030282  -1.2780238  -1.30463695]\n",
      " [ 0.58164437 -0.65226392  0.7836128   0.36632663]\n",
      " [-1.03865066  0.5300876  -1.33529149 -1.30463695]\n",
      " [ 0.33236821 -0.41579362  0.55454207  0.23779097]\n",
      " [-0.66473642  1.47596881 -1.2780238  -1.30463695]\n",
      " [-1.03865066  1.0030282  -1.39255917 -1.17610129]\n",
      " [ 0.58164437  0.5300876   0.55454207  0.49486229]\n",
      " [-0.29082219 -1.36167483  0.0964006  -0.14781601]\n",
      " [-0.29082219 -0.17932331  0.21093597  0.10925531]\n",
      " [-0.16618411 -1.36167483  0.72634512  1.00900493]\n",
      " [ 1.20483477 -0.65226392  0.61180975  0.23779097]\n",
      " [-0.91401258  1.71243911 -1.2780238  -1.17610129]\n",
      " [ 1.08019669  0.05714699  1.06995122  1.52314757]\n",
      " [-0.54009835  1.47596881 -1.2780238  -1.30463695]\n",
      " [ 0.95555861 -0.17932331  0.38273902  0.23779097]\n",
      " [ 1.70338709  1.2394985   1.35628964  1.65168323]\n",
      " [-1.53720298  0.05714699 -1.2780238  -1.30463695]\n",
      " [ 1.32947285  0.29361729  1.1272189   1.39461191]\n",
      " [-0.91401258  1.71243911 -1.04895307 -1.04756563]\n",
      " [ 2.57585365  1.71243911  1.52809269  1.00900493]\n",
      " [-0.91401258  0.7665579  -1.2780238  -1.30463695]\n",
      " [ 0.45700629  0.7665579   0.95541585  1.39461191]\n",
      " [ 0.83092053 -0.65226392  0.49727439  0.36632663]\n",
      " [-0.16618411 -1.12520452 -0.13267013 -0.27635167]\n",
      " [ 0.70628245  0.05714699  1.01268354  0.75193361]\n",
      " [-0.04154603 -0.65226392  0.7836128   1.52314757]\n",
      " [ 1.95266325 -0.65226392  1.35628964  0.88046927]\n",
      " [ 0.20773013 -0.88873422  0.7836128   0.49486229]]\n"
     ]
    }
   ],
   "source": [
    "X_train, X_test, y_train, y_test = train_test_split(data, labels, test_size = 0.2)\n",
    "#normalisation des données\n",
    "scaler = StandardScaler()\n",
    "X_train_norm = scaler.fit_transform(X_train)\n",
    "X_test_norm = scaler.fit_transform(X_test)\n",
    "print(X_train, X_train_norm)"
   ]
  },
  {
   "cell_type": "markdown",
   "metadata": {},
   "source": [
    "Ceci est le modèle de base pour faire de l'apprentissage supervisé"
   ]
  },
  {
   "cell_type": "code",
   "execution_count": 46,
   "metadata": {},
   "outputs": [
    {
     "data": {
      "text/plain": [
       "0.9666666666666667"
      ]
     },
     "execution_count": 46,
     "metadata": {},
     "output_type": "execute_result"
    }
   ],
   "source": [
    "model = KNeighborsClassifier()\n",
    "model.fit(X_train_norm, y_train)\n",
    "model.predict(X_train)\n",
    "model.score(X_test_norm, y_test)"
   ]
  },
  {
   "cell_type": "markdown",
   "metadata": {},
   "source": [
    "On veut déterminer quels sont les meilleurs paramètres du modèle KNN, avec la fonction GridSearchCV."
   ]
  },
  {
   "cell_type": "code",
   "execution_count": 51,
   "metadata": {},
   "outputs": [
    {
     "name": "stdout",
     "output_type": "stream",
     "text": [
      "0.95\n",
      "{'metric': 'euclidean', 'n_neighbors': 1}\n",
      "KNeighborsClassifier(metric='euclidean', n_neighbors=1)\n",
      "0.9666666666666667\n"
     ]
    }
   ],
   "source": [
    "param_grid = {'n_neighbors': np.arange(1,20),\n",
    "                'metric' : ['euclidean', 'manhattan']}\n",
    "grid = GridSearchCV(KNeighborsClassifier(), param_grid, cv=5)\n",
    "grid.fit(X_train_norm, y_train)\n",
    "print(grid.best_score_)\n",
    "print(grid.best_params_)\n",
    "print(grid.best_estimator_)\n",
    "model = grid.best_estimator_\n",
    "\n",
    "print(model.score(X_test_norm, y_test))"
   ]
  },
  {
   "cell_type": "code",
   "execution_count": 53,
   "metadata": {},
   "outputs": [
    {
     "data": {
      "text/plain": [
       "array([[ 9,  0,  0],\n",
       "       [ 0, 12,  0],\n",
       "       [ 0,  1,  8]])"
      ]
     },
     "execution_count": 53,
     "metadata": {},
     "output_type": "execute_result"
    }
   ],
   "source": [
    "confusion_matrix(y_test, model.predict(X_test_norm))\n"
   ]
  },
  {
   "cell_type": "markdown",
   "metadata": {},
   "source": [
    "On voit que le modèle s'est trompé une fois, la fleur était l'espèce n°3 et elle fut prédite en tant que n°2.\n"
   ]
  },
  {
   "cell_type": "markdown",
   "metadata": {},
   "source": [
    "Maintenant regardons quel est la meilleure répartition train set et test set possible avec learning_curve"
   ]
  },
  {
   "cell_type": "code",
   "execution_count": 57,
   "metadata": {},
   "outputs": [
    {
     "name": "stdout",
     "output_type": "stream",
     "text": [
      "[[ 23.75         1.           0.88333333]\n",
      " [ 30.           1.           0.90833333]\n",
      " [ 37.5          1.           0.90833333]\n",
      " [ 43.75         1.           0.925     ]\n",
      " [ 51.25         1.           0.95      ]\n",
      " [ 57.5          1.           0.95      ]\n",
      " [ 65.           1.           0.95833333]\n",
      " [ 71.25         1.           0.96666667]\n",
      " [ 78.75         1.           0.95833333]\n",
      " [ 85.           1.           0.95833333]\n",
      " [ 92.5          1.           0.95833333]\n",
      " [ 98.75         1.           0.95833333]\n",
      " [106.25         1.           0.95833333]\n",
      " [112.5          1.           0.95833333]\n",
      " [120.           1.           0.95      ]]\n"
     ]
    },
    {
     "data": {
      "text/plain": [
       "<matplotlib.legend.Legend at 0x7f5ecde83f10>"
      ]
     },
     "execution_count": 57,
     "metadata": {},
     "output_type": "execute_result"
    },
    {
     "data": {
      "image/png": "[encoded data removed]",
      "text/plain": [
       "<Figure size 640x480 with 1 Axes>"
      ]
     },
     "metadata": {},
     "output_type": "display_data"
    }
   ],
   "source": [
    "N, train_score, test_score = learning_curve(estimator = model, X = X_train_norm, y = y_train, \n",
    "train_sizes = np.linspace(0.2, 1.0, 15), cv = 5)\n",
    "train = train_score.mean(axis = 1)\n",
    "test = test_score.mean(axis = 1)\n",
    "comparatif = np.zeros((15, 2))\n",
    "comparatif[:,0], comparatif[:,1] = train, test\n",
    "comparatif = np.c_[comparatif, np.zeros(15)]\n",
    "comparatif[:,2], comparatif[:,1] = comparatif[:,1], comparatif[:,0]\n",
    "comparatif[:,0] = N/0.8 #pour retrouver les valeurs X_train\n",
    "\n",
    "print(comparatif)\n",
    "\n",
    "plt.plot(comparatif[:,0], comparatif[:,1], label = \"train\")\n",
    "plt.plot(comparatif[:,0], comparatif[:,2], label = \"test\")\n",
    "plt.legend()"
   ]
  },
  {
   "cell_type": "markdown",
   "metadata": {},
   "source": [
    "J'ai organisé mes données dans un tableau numpy pour que ca soit plus lisible, et j'ai fait un plot de l'ensemble, on voit donc que on obtient le modèle le plus performant avec 70 échantillons en train_set, avec un maximum de 96% d'exactitude"
   ]
  },
  {
   "cell_type": "markdown",
   "metadata": {},
   "source": [
    "Preprocessing.\n",
    "On veut normaliser les données"
   ]
  },
  {
   "cell_type": "code",
   "execution_count": 15,
   "metadata": {},
   "outputs": [
    {
     "data": {
      "text/plain": [
       "array([[ 0.17142707,  0.80794883,  0.37580157,  0.46476846],\n",
       "       [ 0.17142707, -0.7814587 ,  0.71743936,  0.46476846],\n",
       "       [ 2.4705666 ,  1.7161817 ,  1.45765457,  0.98357976],\n",
       "       [-0.43360965, -1.00851692,  0.31886194, -0.05404284],\n",
       "       [ 1.01847848,  0.12677417,  0.31886194,  0.20536281],\n",
       "       [-0.07058762, -0.7814587 ,  0.14804304, -0.3134485 ],\n",
       "       [ 2.10754457, -0.10028405,  1.57153383,  1.11328259],\n",
       "       [ 0.5344491 , -0.55440048,  0.71743936,  0.33506563],\n",
       "       [ 0.5344491 , -1.68969158,  0.31886194,  0.07565998],\n",
       "       [ 0.5344491 , -1.23557514,  0.60356009,  0.33506563],\n",
       "       [ 1.13948582, -0.10028405,  0.94519788,  1.11328259],\n",
       "       [ 0.77646379, -0.55440048,  0.4327412 ,  0.33506563],\n",
       "       [ 1.01847848, -0.10028405,  0.77437899,  1.37268824],\n",
       "       [-1.15965371,  0.12677417, -1.33238738, -1.48077393],\n",
       "       [-1.03864637, -2.37086623, -0.19359475, -0.3134485 ],\n",
       "       [-0.91763902,  1.48912348, -1.33238738, -1.09166545],\n",
       "       [-1.4016684 ,  0.35383239, -1.27544775, -1.3510711 ],\n",
       "       [ 1.01847848,  0.58089061,  1.05907715,  1.63209389],\n",
       "       [ 0.29243441, -0.32734227,  0.48968083,  0.20536281],\n",
       "       [-1.03864637,  0.35383239, -1.50320627, -1.3510711 ],\n",
       "       [ 1.26049316,  0.12677417,  0.88825825,  1.11328259],\n",
       "       [-1.88569777, -0.10028405, -1.56014591, -1.48077393],\n",
       "       [-0.43360965, -1.46263336, -0.02277585, -0.18374567],\n",
       "       [ 1.50250785, -0.10028405,  1.17295641,  1.11328259],\n",
       "       [ 0.77646379,  0.35383239,  0.71743936,  0.98357976],\n",
       "       [-1.15965371, -1.23557514,  0.37580157,  0.59447128],\n",
       "       [ 1.26049316,  0.12677417,  0.71743936,  1.37268824],\n",
       "       [-0.19159496, -1.00851692, -0.19359475, -0.3134485 ],\n",
       "       [ 0.5344491 ,  0.58089061,  1.22989604,  1.63209389],\n",
       "       [ 2.22855191,  1.7161817 ,  1.62847346,  1.24298541],\n",
       "       [ 0.5344491 , -0.7814587 ,  0.60356009,  0.72417411],\n",
       "       [-0.43360965, -1.46263336, -0.07971548, -0.3134485 ],\n",
       "       [ 0.17142707, -1.9167498 ,  0.66049973,  0.33506563],\n",
       "       [-0.91763902,  1.7161817 , -1.10462885, -1.09166545],\n",
       "       [-0.55461699, -0.10028405,  0.37580157,  0.33506563],\n",
       "       [ 0.17142707, -1.9167498 ,  0.09110341, -0.3134485 ],\n",
       "       [-0.67562434,  1.48912348, -1.33238738, -1.3510711 ],\n",
       "       [-0.55461699,  0.80794883, -1.21850812, -1.3510711 ],\n",
       "       [-0.19159496, -0.55440048,  0.37580157,  0.07565998],\n",
       "       [ 0.41344176, -1.9167498 ,  0.37580157,  0.33506563],\n",
       "       [-1.28066105, -0.10028405, -1.38932701, -1.22136827],\n",
       "       [-1.03864637,  1.03500705, -1.27544775, -0.8322598 ],\n",
       "       [-1.15965371, -1.46263336, -0.30747401, -0.3134485 ],\n",
       "       [ 1.01847848,  0.12677417,  1.00213752,  1.50239106],\n",
       "       [ 1.6235152 ,  1.26206526,  1.28683567,  1.63209389],\n",
       "       [ 0.77646379, -0.10028405,  0.77437899,  0.98357976],\n",
       "       [ 0.5344491 ,  0.80794883,  1.00213752,  1.50239106],\n",
       "       [-1.64368309, -1.68969158, -1.44626664, -1.22136827],\n",
       "       [ 2.22855191, -0.55440048,  1.62847346,  0.98357976],\n",
       "       [ 0.65545645,  0.35383239,  0.83131862,  1.37268824],\n",
       "       [ 1.01847848,  0.12677417,  0.48968083,  0.33506563],\n",
       "       [ 0.77646379, -0.10028405,  1.11601678,  1.24298541],\n",
       "       [ 0.17142707, -0.10028405,  0.54662046,  0.72417411],\n",
       "       [ 0.5344491 , -1.23557514,  0.66049973,  0.85387694],\n",
       "       [-1.52267574,  1.26206526, -1.61708554, -1.3510711 ],\n",
       "       [-0.3126023 , -0.10028405,  0.14804304,  0.07565998],\n",
       "       [ 0.29243441, -0.55440048,  0.48968083, -0.05404284],\n",
       "       [ 0.65545645, -0.55440048,  1.00213752,  1.11328259],\n",
       "       [-1.03864637,  1.26206526, -1.38932701, -1.3510711 ],\n",
       "       [-0.43360965, -1.23557514,  0.09110341,  0.07565998],\n",
       "       [-0.3126023 , -0.7814587 ,  0.20498267,  0.07565998],\n",
       "       [-0.91763902, -1.23557514, -0.47829291, -0.18374567],\n",
       "       [-0.07058762, -0.55440048,  0.71743936,  1.50239106],\n",
       "       [-0.19159496, -0.10028405,  0.20498267, -0.05404284],\n",
       "       [-0.3126023 , -0.55440048,  0.60356009,  0.98357976],\n",
       "       [ 1.26049316,  0.35383239,  1.05907715,  1.37268824],\n",
       "       [ 1.01847848,  0.58089061,  1.05907715,  1.11328259],\n",
       "       [-1.03864637, -0.10028405, -1.27544775, -1.3510711 ],\n",
       "       [ 0.65545645, -0.7814587 ,  0.83131862,  0.85387694],\n",
       "       [ 0.77646379, -0.10028405,  0.94519788,  0.72417411],\n",
       "       [ 0.29243441, -1.00851692,  1.00213752,  0.20536281],\n",
       "       [-0.55461699,  1.94323992, -1.21850812, -1.09166545],\n",
       "       [-0.91763902,  1.7161817 , -1.27544775, -1.3510711 ],\n",
       "       [-0.43360965, -1.68969158,  0.09110341,  0.07565998],\n",
       "       [ 0.65545645,  0.12677417,  0.94519788,  0.72417411],\n",
       "       [ 2.22855191, -0.10028405,  1.28683567,  1.37268824],\n",
       "       [-1.28066105,  0.80794883, -1.27544775, -1.3510711 ],\n",
       "       [-1.03864637,  0.80794883, -1.33238738, -1.3510711 ],\n",
       "       [ 1.13948582, -0.55440048,  0.54662046,  0.20536281],\n",
       "       [-0.91763902,  1.03500705, -1.38932701, -1.3510711 ],\n",
       "       [-0.55461699,  1.48912348, -1.33238738, -1.3510711 ],\n",
       "       [-0.3126023 , -0.10028405,  0.37580157,  0.33506563],\n",
       "       [-1.28066105,  0.80794883, -1.10462885, -1.3510711 ],\n",
       "       [-0.91763902,  1.7161817 , -1.33238738, -1.22136827],\n",
       "       [ 1.74452254, -0.32734227,  1.40071494,  0.72417411],\n",
       "       [-0.79663168,  0.80794883, -1.38932701, -1.3510711 ],\n",
       "       [-0.19159496,  3.07853101, -1.33238738, -1.09166545],\n",
       "       [-0.19159496, -0.55440048,  0.14804304,  0.07565998],\n",
       "       [ 0.29243441, -0.55440048,  0.09110341,  0.07565998],\n",
       "       [-0.79663168, -0.7814587 ,  0.03416378,  0.20536281],\n",
       "       [ 1.26049316,  0.12677417,  0.60356009,  0.33506563],\n",
       "       [ 1.01847848, -0.10028405,  0.66049973,  0.59447128],\n",
       "       [-0.91763902,  0.80794883, -1.33238738, -1.3510711 ],\n",
       "       [-1.15965371,  0.12677417, -1.33238738, -1.3510711 ],\n",
       "       [ 1.13948582,  0.35383239,  1.17295641,  1.37268824],\n",
       "       [-0.19159496, -1.23557514,  0.66049973,  0.98357976],\n",
       "       [-0.55461699,  1.94323992, -1.44626664, -1.09166545],\n",
       "       [-1.76469043,  0.35383239, -1.44626664, -1.3510711 ],\n",
       "       [ 0.65545645, -0.55440048,  1.00213752,  1.24298541],\n",
       "       [-1.76469043, -0.10028405, -1.44626664, -1.3510711 ],\n",
       "       [-1.52267574,  0.12677417, -1.33238738, -1.3510711 ],\n",
       "       [ 0.05041973, -0.10028405,  0.71743936,  0.72417411],\n",
       "       [-1.03864637,  1.03500705, -1.44626664, -1.22136827],\n",
       "       [ 0.41344176, -0.32734227,  0.26192231,  0.07565998],\n",
       "       [-0.43360965,  1.03500705, -1.44626664, -1.3510711 ],\n",
       "       [ 1.6235152 ,  0.35383239,  1.22989604,  0.72417411],\n",
       "       [-0.91763902,  1.03500705, -1.38932701, -1.22136827],\n",
       "       [ 0.29243441, -0.10028405,  0.4327412 ,  0.20536281],\n",
       "       [-1.15965371, -0.10028405, -1.38932701, -1.3510711 ],\n",
       "       [ 0.65545645, -0.32734227,  0.26192231,  0.07565998],\n",
       "       [ 0.05041973,  0.35383239,  0.54662046,  0.72417411],\n",
       "       [-0.07058762, -0.7814587 ,  0.71743936,  0.85387694],\n",
       "       [-0.79663168,  1.03500705, -1.33238738, -1.3510711 ],\n",
       "       [-0.43360965,  2.62441458, -1.38932701, -1.3510711 ],\n",
       "       [-1.76469043, -0.32734227, -1.38932701, -1.3510711 ],\n",
       "       [ 0.41344176,  0.80794883,  0.88825825,  1.37268824],\n",
       "       [-1.4016684 ,  0.35383239, -1.44626664, -1.3510711 ],\n",
       "       [ 1.01847848, -1.23557514,  1.11601678,  0.72417411],\n",
       "       [ 0.89747113, -0.32734227,  0.4327412 ,  0.07565998],\n",
       "       [-0.07058762, -1.00851692,  0.09110341, -0.05404284]])"
      ]
     },
     "execution_count": 15,
     "metadata": {},
     "output_type": "execute_result"
    }
   ],
   "source": [
    "\n"
   ]
  },
  {
   "cell_type": "code",
   "execution_count": null,
   "metadata": {},
   "outputs": [
    {
     "data": {
      "text/plain": [
       "(array([ 10.81782088,   3.7107283 , 116.31261309,  67.0483602 ]),\n",
       " array([4.47651499e-03, 1.56395980e-01, 5.53397228e-26, 2.75824965e-15]))"
      ]
     },
     "execution_count": 19,
     "metadata": {},
     "output_type": "execute_result"
    }
   ],
   "source": [
    "\n",
    "#plus le premier tableau est elevé, plus il y a\n",
    "#  une dependance entre la variable x et y\n",
    "#dans le 2eme tableau, on a les valeurs de probabilité ?"
   ]
  },
  {
   "cell_type": "code",
   "execution_count": null,
   "metadata": {},
   "outputs": [
    {
     "data": {
      "text/plain": [
       "array([False, False,  True,  True])"
      ]
     },
     "execution_count": 37,
     "metadata": {},
     "output_type": "execute_result"
    }
   ],
   "source": [
    "\n",
    "elector = SelectKBest(chi2, k=1)\n",
    "selector.fit_transform(X, y)\n",
    "selector.get_support()\n",
    "selector = SelectFromModel(SGDClassifier(random_state = 0),\n",
    "                            threshold = 'mean')\n",
    "selector.fit_transform(X, y)\n",
    "selector.get_support()\n",
    "\n"
   ]
  },
  {
   "cell_type": "code",
   "execution_count": null,
   "metadata": {},
   "outputs": [
    {
     "name": "stdout",
     "output_type": "stream",
     "text": [
      "[2 1 1 1]\n",
      "[0.84666667 0.86666667 0.8       ]\n"
     ]
    },
    {
     "name": "stderr",
     "output_type": "stream",
     "text": [
      "/home/gdaume24/workspace/py-sql/.venv/lib/python3.8/site-packages/sklearn/utils/deprecation.py:103: FutureWarning: The `grid_scores_` attribute is deprecated in version 1.0 in favor of `cv_results_` and will be removed in version 1.2.\n",
      "  warnings.warn(msg, category=FutureWarning)\n"
     ]
    }
   ],
   "source": [
    "selector = RFECV(SGDClassifier(), step = 1, min_features_to_select = 2, cv = 5)\n",
    "\n",
    "selector.fit(X, y)\n",
    "print(selector.ranking_)\n",
    "print(selector.grid_scores_.mean(axis=1))\n"
   ]
  }
 ],
 "metadata": {
  "kernelspec": {
   "display_name": "Python 3.8.10 ('.venv': venv)",
   "language": "python",
   "name": "python3"
  },
  "language_info": {
   "codemirror_mode": {
    "name": "ipython",
    "version": 3
   },
   "file_extension": ".py",
   "mimetype": "text/x-python",
   "name": "python",
   "nbconvert_exporter": "python",
   "pygments_lexer": "ipython3",
   "version": "3.8.10"
  },
  "orig_nbformat": 4,
  "vscode": {
   "interpreter": {
    "hash": "89219a08b3a7f759465bf2f8c7189bcb47a2891add95ccbb4e834c7b7b297bd7"
   }
  }
 },
 "nbformat": 4,
 "nbformat_minor": 2
}
