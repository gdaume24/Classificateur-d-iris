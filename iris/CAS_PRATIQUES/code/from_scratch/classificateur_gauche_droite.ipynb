{
 "cells": [
  {
   "cell_type": "code",
   "execution_count": 2,
   "metadata": {},
   "outputs": [],
   "source": [
    "import os"
   ]
  },
  {
   "cell_type": "code",
   "execution_count": 7,
   "metadata": {},
   "outputs": [
    {
     "ename": "SyntaxError",
     "evalue": "unterminated string literal (detected at line 1) (2053971215.py, line 1)",
     "output_type": "error",
     "traceback": [
      "\u001b[1;36m  Cell \u001b[1;32mIn[7], line 1\u001b[1;36m\u001b[0m\n\u001b[1;33m    print(\"\\\")\u001b[0m\n\u001b[1;37m          ^\u001b[0m\n\u001b[1;31mSyntaxError\u001b[0m\u001b[1;31m:\u001b[0m unterminated string literal (detected at line 1)\n"
     ]
    }
   ],
   "source": [
    "print(\"\\\\\")"
   ]
  },
  {
   "cell_type": "code",
   "execution_count": 9,
   "metadata": {},
   "outputs": [
    {
     "name": "stdout",
     "output_type": "stream",
     "text": [
      "C:\\VSCODE\\iris\\CAS_PRATIQUES\\MMU-Iris-Database\\1\n",
      "C:\\VSCODE\\iris\\CAS_PRATIQUES\\MMU-Iris-Database\\10\n",
      "C:\\VSCODE\\iris\\CAS_PRATIQUES\\MMU-Iris-Database\\11\n",
      "C:\\VSCODE\\iris\\CAS_PRATIQUES\\MMU-Iris-Database\\12\n",
      "C:\\VSCODE\\iris\\CAS_PRATIQUES\\MMU-Iris-Database\\13\n",
      "C:\\VSCODE\\iris\\CAS_PRATIQUES\\MMU-Iris-Database\\14\n",
      "C:\\VSCODE\\iris\\CAS_PRATIQUES\\MMU-Iris-Database\\15\n",
      "C:\\VSCODE\\iris\\CAS_PRATIQUES\\MMU-Iris-Database\\16\n",
      "C:\\VSCODE\\iris\\CAS_PRATIQUES\\MMU-Iris-Database\\17\n",
      "C:\\VSCODE\\iris\\CAS_PRATIQUES\\MMU-Iris-Database\\18\n",
      "C:\\VSCODE\\iris\\CAS_PRATIQUES\\MMU-Iris-Database\\19\n",
      "C:\\VSCODE\\iris\\CAS_PRATIQUES\\MMU-Iris-Database\\2\n",
      "C:\\VSCODE\\iris\\CAS_PRATIQUES\\MMU-Iris-Database\\20\n",
      "C:\\VSCODE\\iris\\CAS_PRATIQUES\\MMU-Iris-Database\\21\n",
      "C:\\VSCODE\\iris\\CAS_PRATIQUES\\MMU-Iris-Database\\22\n",
      "C:\\VSCODE\\iris\\CAS_PRATIQUES\\MMU-Iris-Database\\23\n",
      "C:\\VSCODE\\iris\\CAS_PRATIQUES\\MMU-Iris-Database\\24\n",
      "C:\\VSCODE\\iris\\CAS_PRATIQUES\\MMU-Iris-Database\\25\n",
      "C:\\VSCODE\\iris\\CAS_PRATIQUES\\MMU-Iris-Database\\26\n",
      "C:\\VSCODE\\iris\\CAS_PRATIQUES\\MMU-Iris-Database\\27\n",
      "C:\\VSCODE\\iris\\CAS_PRATIQUES\\MMU-Iris-Database\\28\n",
      "C:\\VSCODE\\iris\\CAS_PRATIQUES\\MMU-Iris-Database\\29\n",
      "C:\\VSCODE\\iris\\CAS_PRATIQUES\\MMU-Iris-Database\\3\n",
      "C:\\VSCODE\\iris\\CAS_PRATIQUES\\MMU-Iris-Database\\30\n",
      "C:\\VSCODE\\iris\\CAS_PRATIQUES\\MMU-Iris-Database\\31\n",
      "C:\\VSCODE\\iris\\CAS_PRATIQUES\\MMU-Iris-Database\\32\n",
      "C:\\VSCODE\\iris\\CAS_PRATIQUES\\MMU-Iris-Database\\33\n",
      "C:\\VSCODE\\iris\\CAS_PRATIQUES\\MMU-Iris-Database\\34\n",
      "C:\\VSCODE\\iris\\CAS_PRATIQUES\\MMU-Iris-Database\\35\n",
      "C:\\VSCODE\\iris\\CAS_PRATIQUES\\MMU-Iris-Database\\36\n",
      "C:\\VSCODE\\iris\\CAS_PRATIQUES\\MMU-Iris-Database\\37\n",
      "C:\\VSCODE\\iris\\CAS_PRATIQUES\\MMU-Iris-Database\\38\n",
      "C:\\VSCODE\\iris\\CAS_PRATIQUES\\MMU-Iris-Database\\39\n",
      "C:\\VSCODE\\iris\\CAS_PRATIQUES\\MMU-Iris-Database\\40\n",
      "C:\\VSCODE\\iris\\CAS_PRATIQUES\\MMU-Iris-Database\\41\n",
      "C:\\VSCODE\\iris\\CAS_PRATIQUES\\MMU-Iris-Database\\42\n",
      "C:\\VSCODE\\iris\\CAS_PRATIQUES\\MMU-Iris-Database\\43\n",
      "C:\\VSCODE\\iris\\CAS_PRATIQUES\\MMU-Iris-Database\\44\n",
      "C:\\VSCODE\\iris\\CAS_PRATIQUES\\MMU-Iris-Database\\45\n",
      "C:\\VSCODE\\iris\\CAS_PRATIQUES\\MMU-Iris-Database\\46\n",
      "C:\\VSCODE\\iris\\CAS_PRATIQUES\\MMU-Iris-Database\\5\n",
      "C:\\VSCODE\\iris\\CAS_PRATIQUES\\MMU-Iris-Database\\6\n",
      "C:\\VSCODE\\iris\\CAS_PRATIQUES\\MMU-Iris-Database\\7\n",
      "C:\\VSCODE\\iris\\CAS_PRATIQUES\\MMU-Iris-Database\\8\n",
      "C:\\VSCODE\\iris\\CAS_PRATIQUES\\MMU-Iris-Database\\9\n",
      "C:\\VSCODE\\iris\\CAS_PRATIQUES\\MMU-Iris-Database\\ReadMe.txt\n"
     ]
    }
   ],
   "source": [
    "data_path = r\"C:\\VSCODE\\iris\\CAS_PRATIQUES\\MMU-Iris-Database\"\n",
    "\n",
    "for number_employee in os.listdir(data_path):\n",
    "    new_path = data_path + \"\\\\\" + dir\n",
    "    if os.path.isdir(new_path):\n",
    "        for side in os.listdir(new_path):\n",
    "            path_side = new_path + \"\\\\\" + side"
   ]
  }
 ],
 "metadata": {
  "kernelspec": {
   "display_name": "environnement",
   "language": "python",
   "name": "python3"
  },
  "language_info": {
   "codemirror_mode": {
    "name": "ipython",
    "version": 3
   },
   "file_extension": ".py",
   "mimetype": "text/x-python",
   "name": "python",
   "nbconvert_exporter": "python",
   "pygments_lexer": "ipython3",
   "version": "3.11.4"
  },
  "orig_nbformat": 4
 },
 "nbformat": 4,
 "nbformat_minor": 2
}
